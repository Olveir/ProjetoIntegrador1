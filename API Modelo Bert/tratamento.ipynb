{
 "cells": [
  {
   "cell_type": "code",
   "execution_count": 1,
   "id": "d988dab5",
   "metadata": {},
   "outputs": [],
   "source": [
    "import pandas as pd"
   ]
  },
  {
   "cell_type": "code",
   "execution_count": 2,
   "id": "ce2c1a77",
   "metadata": {},
   "outputs": [],
   "source": [
    "arquivo = r'C:\\Users\\tatal\\Downloads/classificacao_simccit.csv'"
   ]
  },
  {
   "cell_type": "code",
   "execution_count": 3,
   "id": "a7589ca3",
   "metadata": {},
   "outputs": [],
   "source": [
    "df = pd.read_csv(arquivo)"
   ]
  },
  {
   "cell_type": "code",
   "execution_count": 4,
   "id": "02ecfab7",
   "metadata": {},
   "outputs": [
    {
     "data": {
      "text/html": [
       "<div>\n",
       "<style scoped>\n",
       "    .dataframe tbody tr th:only-of-type {\n",
       "        vertical-align: middle;\n",
       "    }\n",
       "\n",
       "    .dataframe tbody tr th {\n",
       "        vertical-align: top;\n",
       "    }\n",
       "\n",
       "    .dataframe thead th {\n",
       "        text-align: right;\n",
       "    }\n",
       "</style>\n",
       "<table border=\"1\" class=\"dataframe\">\n",
       "  <thead>\n",
       "    <tr style=\"text-align: right;\">\n",
       "      <th></th>\n",
       "      <th>Interação</th>\n",
       "      <th>Categoria</th>\n",
       "    </tr>\n",
       "  </thead>\n",
       "  <tbody>\n",
       "    <tr>\n",
       "      <th>0</th>\n",
       "      <td>Gostei muito da nossa sessão de hoje. Acho que...</td>\n",
       "      <td>APR</td>\n",
       "    </tr>\n",
       "    <tr>\n",
       "      <th>1</th>\n",
       "      <td>Você conversa super bem! É muito agradável con...</td>\n",
       "      <td>APR</td>\n",
       "    </tr>\n",
       "    <tr>\n",
       "      <th>2</th>\n",
       "      <td>De fato, a medicação pode te ajudar, mas se vo...</td>\n",
       "      <td>APR</td>\n",
       "    </tr>\n",
       "    <tr>\n",
       "      <th>3</th>\n",
       "      <td>Com certeza! Você tem toda a razão.</td>\n",
       "      <td>APR</td>\n",
       "    </tr>\n",
       "    <tr>\n",
       "      <th>4</th>\n",
       "      <td>Você tomou a decisão certa. Está lidando com i...</td>\n",
       "      <td>APR</td>\n",
       "    </tr>\n",
       "    <tr>\n",
       "      <th>...</th>\n",
       "      <td>...</td>\n",
       "      <td>...</td>\n",
       "    </tr>\n",
       "    <tr>\n",
       "      <th>567</th>\n",
       "      <td>Se fosse tão simples, você já teria resolvido.</td>\n",
       "      <td>REP</td>\n",
       "    </tr>\n",
       "    <tr>\n",
       "      <th>568</th>\n",
       "      <td>Você precisa parar de fugir da responsabilidade.</td>\n",
       "      <td>REP</td>\n",
       "    </tr>\n",
       "    <tr>\n",
       "      <th>569</th>\n",
       "      <td>Isso me parece mais uma justificativa do que u...</td>\n",
       "      <td>REP</td>\n",
       "    </tr>\n",
       "    <tr>\n",
       "      <th>570</th>\n",
       "      <td>Acho que você está se enganando.</td>\n",
       "      <td>REP</td>\n",
       "    </tr>\n",
       "    <tr>\n",
       "      <th>571</th>\n",
       "      <td>Se continuar assim, não espere um resultado di...</td>\n",
       "      <td>REP</td>\n",
       "    </tr>\n",
       "  </tbody>\n",
       "</table>\n",
       "<p>572 rows × 2 columns</p>\n",
       "</div>"
      ],
      "text/plain": [
       "                                             Interação Categoria\n",
       "0    Gostei muito da nossa sessão de hoje. Acho que...       APR\n",
       "1    Você conversa super bem! É muito agradável con...       APR\n",
       "2    De fato, a medicação pode te ajudar, mas se vo...       APR\n",
       "3                  Com certeza! Você tem toda a razão.       APR\n",
       "4    Você tomou a decisão certa. Está lidando com i...       APR\n",
       "..                                                 ...       ...\n",
       "567     Se fosse tão simples, você já teria resolvido.       REP\n",
       "568   Você precisa parar de fugir da responsabilidade.       REP\n",
       "569  Isso me parece mais uma justificativa do que u...       REP\n",
       "570                   Acho que você está se enganando.       REP\n",
       "571  Se continuar assim, não espere um resultado di...       REP\n",
       "\n",
       "[572 rows x 2 columns]"
      ]
     },
     "execution_count": 4,
     "metadata": {},
     "output_type": "execute_result"
    }
   ],
   "source": [
    "df"
   ]
  },
  {
   "cell_type": "code",
   "execution_count": 6,
   "id": "5e8a947b",
   "metadata": {},
   "outputs": [],
   "source": [
    "import re\n",
    "import string\n",
    "from unidecode import unidecode\n",
    "\n",
    "# Função para limpar o texto\n",
    "def limpar_texto(texto):\n",
    "    if not isinstance(texto, str):  # para evitar erro se houver NaN\n",
    "        return \"\"\n",
    "    texto = texto.lower()\n",
    "    texto = unidecode(texto)  # Remove acentos\n",
    "    texto = re.sub(f\"[{string.punctuation}]\", \"\", texto)  # Remove pontuação\n",
    "    texto = ' '.join([palavra for palavra in texto.split() if len(palavra) > 1 and not palavra.isdigit()])\n",
    "    return texto"
   ]
  },
  {
   "cell_type": "code",
   "execution_count": 7,
   "id": "b3cdd1b9",
   "metadata": {},
   "outputs": [],
   "source": [
    "df['interacao_limpa'] = df['Interação'].apply(limpar_texto)"
   ]
  },
  {
   "cell_type": "code",
   "execution_count": 8,
   "id": "f79be5e6",
   "metadata": {},
   "outputs": [],
   "source": [
    "df.columns = ['interacao', 'categoria','interacao_limpa']"
   ]
  },
  {
   "cell_type": "code",
   "execution_count": 9,
   "id": "f8e50157",
   "metadata": {},
   "outputs": [],
   "source": [
    "df = df[['interacao_limpa', 'categoria']]"
   ]
  },
  {
   "cell_type": "code",
   "execution_count": 10,
   "id": "bddf85c5",
   "metadata": {},
   "outputs": [],
   "source": [
    "df.to_csv('classificacao_tratado.csv', index=False)"
   ]
  }
 ],
 "metadata": {
  "kernelspec": {
   "display_name": "Python 3",
   "language": "python",
   "name": "python3"
  },
  "language_info": {
   "codemirror_mode": {
    "name": "ipython",
    "version": 3
   },
   "file_extension": ".py",
   "mimetype": "text/x-python",
   "name": "python",
   "nbconvert_exporter": "python",
   "pygments_lexer": "ipython3",
   "version": "3.13.3"
  }
 },
 "nbformat": 4,
 "nbformat_minor": 5
}
