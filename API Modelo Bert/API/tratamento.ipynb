{
 "cells": [
  {
   "cell_type": "code",
   "execution_count": 6,
   "id": "d988dab5",
   "metadata": {},
   "outputs": [],
   "source": [
    "import pandas as pd"
   ]
  },
  {
   "cell_type": "code",
   "execution_count": 9,
   "id": "ce2c1a77",
   "metadata": {},
   "outputs": [],
   "source": [
    "arquivo = r'C:\\Users\\tatal\\Desktop\\gitPIrepoProf\\ProjetoIntegrador1\\API Modelo Bert\\API\\falas_terapeuticas.csv'"
   ]
  },
  {
   "cell_type": "code",
   "execution_count": 10,
   "id": "a7589ca3",
   "metadata": {},
   "outputs": [],
   "source": [
    "df = pd.read_csv(arquivo)"
   ]
  },
  {
   "cell_type": "code",
   "execution_count": 13,
   "id": "02ecfab7",
   "metadata": {},
   "outputs": [
    {
     "data": {
      "application/vnd.microsoft.datawrangler.viewer.v0+json": {
       "columns": [
        {
         "name": "index",
         "rawType": "int64",
         "type": "integer"
        },
        {
         "name": "Fala_Cliente",
         "rawType": "object",
         "type": "unknown"
        },
        {
         "name": "Fala_Terapeuta",
         "rawType": "object",
         "type": "string"
        }
       ],
       "ref": "83739cc5-a77d-4f23-9ff2-858fb483665a",
       "rows": [
        [
         "9",
         null,
         "Que bom que você se permitiu descansar e recarregar as energias."
        ],
        [
         "10",
         "Finalmente tive coragem e convidei meu colega para sair.",
         "Isso que você fez foi um grande passo na direção certa."
        ]
       ],
       "shape": {
        "columns": 2,
        "rows": 2
       }
      },
      "text/html": [
       "<div>\n",
       "<style scoped>\n",
       "    .dataframe tbody tr th:only-of-type {\n",
       "        vertical-align: middle;\n",
       "    }\n",
       "\n",
       "    .dataframe tbody tr th {\n",
       "        vertical-align: top;\n",
       "    }\n",
       "\n",
       "    .dataframe thead th {\n",
       "        text-align: right;\n",
       "    }\n",
       "</style>\n",
       "<table border=\"1\" class=\"dataframe\">\n",
       "  <thead>\n",
       "    <tr style=\"text-align: right;\">\n",
       "      <th></th>\n",
       "      <th>Fala_Cliente</th>\n",
       "      <th>Fala_Terapeuta</th>\n",
       "    </tr>\n",
       "  </thead>\n",
       "  <tbody>\n",
       "    <tr>\n",
       "      <th>9</th>\n",
       "      <td>NaN</td>\n",
       "      <td>Que bom que você se permitiu descansar e recar...</td>\n",
       "    </tr>\n",
       "    <tr>\n",
       "      <th>10</th>\n",
       "      <td>Finalmente tive coragem e convidei meu colega ...</td>\n",
       "      <td>Isso que você fez foi um grande passo na direç...</td>\n",
       "    </tr>\n",
       "  </tbody>\n",
       "</table>\n",
       "</div>"
      ],
      "text/plain": [
       "                                         Fala_Cliente  \\\n",
       "9                                                 NaN   \n",
       "10  Finalmente tive coragem e convidei meu colega ...   \n",
       "\n",
       "                                       Fala_Terapeuta  \n",
       "9   Que bom que você se permitiu descansar e recar...  \n",
       "10  Isso que você fez foi um grande passo na direç...  "
      ]
     },
     "execution_count": 13,
     "metadata": {},
     "output_type": "execute_result"
    }
   ],
   "source": [
    "df"
   ]
  },
  {
   "cell_type": "code",
   "execution_count": 12,
   "id": "c73ef7e6",
   "metadata": {},
   "outputs": [],
   "source": [
    "df = df.iloc[9:11]"
   ]
  },
  {
   "cell_type": "code",
   "execution_count": 14,
   "id": "b6726fdf",
   "metadata": {},
   "outputs": [],
   "source": [
    "df.to_csv(\"arquivo_exemplo.csv\", index=False)"
   ]
  },
  {
   "cell_type": "code",
   "execution_count": 6,
   "id": "5e8a947b",
   "metadata": {},
   "outputs": [],
   "source": [
    "import re\n",
    "import string\n",
    "from unidecode import unidecode\n",
    "\n",
    "# Função para limpar o texto\n",
    "def limpar_texto(texto):\n",
    "    if not isinstance(texto, str):  # para evitar erro se houver NaN\n",
    "        return \"\"\n",
    "    texto = texto.lower()\n",
    "    texto = unidecode(texto)  # Remove acentos\n",
    "    texto = re.sub(f\"[{string.punctuation}]\", \"\", texto)  # Remove pontuação\n",
    "    texto = ' '.join([palavra for palavra in texto.split() if len(palavra) > 1 and not palavra.isdigit()])\n",
    "    return texto"
   ]
  },
  {
   "cell_type": "code",
   "execution_count": 7,
   "id": "b3cdd1b9",
   "metadata": {},
   "outputs": [],
   "source": [
    "df['interacao_limpa'] = df['Interação'].apply(limpar_texto)"
   ]
  },
  {
   "cell_type": "code",
   "execution_count": 8,
   "id": "f79be5e6",
   "metadata": {},
   "outputs": [],
   "source": [
    "df.columns = ['interacao', 'categoria','interacao_limpa']"
   ]
  },
  {
   "cell_type": "code",
   "execution_count": 9,
   "id": "f8e50157",
   "metadata": {},
   "outputs": [],
   "source": [
    "df = df[['interacao_limpa', 'categoria']]"
   ]
  },
  {
   "cell_type": "code",
   "execution_count": 10,
   "id": "bddf85c5",
   "metadata": {},
   "outputs": [],
   "source": [
    "df.to_csv('classificacao_tratado.csv', index=False)"
   ]
  }
 ],
 "metadata": {
  "kernelspec": {
   "display_name": "Python 3",
   "language": "python",
   "name": "python3"
  },
  "language_info": {
   "codemirror_mode": {
    "name": "ipython",
    "version": 3
   },
   "file_extension": ".py",
   "mimetype": "text/x-python",
   "name": "python",
   "nbconvert_exporter": "python",
   "pygments_lexer": "ipython3",
   "version": "3.11.7"
  }
 },
 "nbformat": 4,
 "nbformat_minor": 5
}
